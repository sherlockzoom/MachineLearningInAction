{
 "cells": [
  {
   "cell_type": "markdown",
   "metadata": {},
   "source": [
    "## Normal and Shrinkage Linear Discriminant Analysis for classification\n",
    "\n",
    "展示sklearn如何使用Linear Discriminant Analysis（LDA）线性判别分析来分类\n",
    "\n",
    "+ 利用`sklearn.datasets.make_blobs`产生测试语料\n",
    "+ 利用自定义的`generate_data` 产生具有多个特征的资料集，其中既有一个对分类有判断意义。\n",
    "+ 利用`LinearDiscriminantAnalysis`来对资料分类\n",
    "+ 比较 一般LDA算法和`shrinkage`前后的差异"
   ]
  },
  {
   "cell_type": "code",
   "execution_count": 14,
   "metadata": {
    "collapsed": false
   },
   "outputs": [],
   "source": [
    "%matplotlib inline\n",
    "from __future__ import division\n",
    "import numpy as np\n",
    "import matplotlib.pyplot as plt\n",
    "\n",
    "from sklearn.datasets import make_blobs\n",
    "from sklearn.lda import LDA # 这里LDA是隐式线性判别。在后面0.17版本 有改动。\n",
    "\n",
    "n_train = 20 # 训练样例\n",
    "n_test = 200 # 测试样例\n",
    "n_averages = 50 # 重复分类次数\n",
    "n_features_max = 75 # 最大特征个数\n",
    "step = 4 # 计算步长\n",
    "\n",
    "def generate_data(n_samples, n_features):\n",
    "    X, y = make_blobs(n_samples=n_samples, n_features=1, centers=[[-2], [2]]) # centers知道聚类中心位置\n",
    "    # 增加一些非判别特征\n",
    "    if n_features > 1:\n",
    "        X = np.hstack([X, np.random.randn(n_samples, n_features - 1)])\n",
    "    return X, y"
   ]
  },
  {
   "cell_type": "code",
   "execution_count": 3,
   "metadata": {
    "collapsed": false
   },
   "outputs": [
    {
     "data": {
      "text/plain": [
       "'0.16.1'"
      ]
     },
     "execution_count": 3,
     "metadata": {},
     "output_type": "execute_result"
    }
   ],
   "source": [
    "import sklearn\n",
    "sklearn.__version__\n",
    "# 这里是0.16.1 使用下面的导入格式\n",
    "# from sklearn.lda import LDA "
   ]
  },
  {
   "cell_type": "code",
   "execution_count": 15,
   "metadata": {
    "collapsed": false
   },
   "outputs": [],
   "source": [
    "X, y = generate_data(10, 5)"
   ]
  },
  {
   "cell_type": "markdown",
   "metadata": {},
   "source": [
    "使用 `pandas.DataFrame` 来观察数据"
   ]
  },
  {
   "cell_type": "code",
   "execution_count": 25,
   "metadata": {
    "collapsed": false
   },
   "outputs": [
    {
     "data": {
      "text/html": [
       "<div>\n",
       "<table border=\"1\" class=\"dataframe\">\n",
       "  <thead>\n",
       "    <tr style=\"text-align: right;\">\n",
       "      <th></th>\n",
       "      <th>y</th>\n",
       "      <th>x0</th>\n",
       "      <th>x1</th>\n",
       "      <th>x2</th>\n",
       "      <th>x3</th>\n",
       "      <th>x4</th>\n",
       "    </tr>\n",
       "  </thead>\n",
       "  <tbody>\n",
       "    <tr>\n",
       "      <th>0</th>\n",
       "      <td>1</td>\n",
       "      <td>2.1</td>\n",
       "      <td>0.84</td>\n",
       "      <td>0.24</td>\n",
       "      <td>-0.37</td>\n",
       "      <td>-0.19</td>\n",
       "    </tr>\n",
       "    <tr>\n",
       "      <th>1</th>\n",
       "      <td>1</td>\n",
       "      <td>2</td>\n",
       "      <td>-1.5</td>\n",
       "      <td>1.3</td>\n",
       "      <td>0.92</td>\n",
       "      <td>-0.87</td>\n",
       "    </tr>\n",
       "    <tr>\n",
       "      <th>2</th>\n",
       "      <td>1</td>\n",
       "      <td>0.19</td>\n",
       "      <td>-1.2</td>\n",
       "      <td>-0.42</td>\n",
       "      <td>1.3</td>\n",
       "      <td>-0.53</td>\n",
       "    </tr>\n",
       "    <tr>\n",
       "      <th>3</th>\n",
       "      <td>0</td>\n",
       "      <td>-2.6</td>\n",
       "      <td>-1.2</td>\n",
       "      <td>1.2</td>\n",
       "      <td>-0.13</td>\n",
       "      <td>-0.84</td>\n",
       "    </tr>\n",
       "    <tr>\n",
       "      <th>4</th>\n",
       "      <td>1</td>\n",
       "      <td>1.8</td>\n",
       "      <td>-0.2</td>\n",
       "      <td>-0.25</td>\n",
       "      <td>-0.065</td>\n",
       "      <td>-1.1</td>\n",
       "    </tr>\n",
       "    <tr>\n",
       "      <th>5</th>\n",
       "      <td>0</td>\n",
       "      <td>-1.5</td>\n",
       "      <td>0.081</td>\n",
       "      <td>-0.67</td>\n",
       "      <td>-0.48</td>\n",
       "      <td>2</td>\n",
       "    </tr>\n",
       "    <tr>\n",
       "      <th>6</th>\n",
       "      <td>1</td>\n",
       "      <td>2.7</td>\n",
       "      <td>-0.76</td>\n",
       "      <td>-0.3</td>\n",
       "      <td>2.1</td>\n",
       "      <td>-1.2</td>\n",
       "    </tr>\n",
       "    <tr>\n",
       "      <th>7</th>\n",
       "      <td>0</td>\n",
       "      <td>-3.6</td>\n",
       "      <td>0.82</td>\n",
       "      <td>1.7</td>\n",
       "      <td>1.2</td>\n",
       "      <td>0.37</td>\n",
       "    </tr>\n",
       "    <tr>\n",
       "      <th>8</th>\n",
       "      <td>0</td>\n",
       "      <td>-1.1</td>\n",
       "      <td>0.21</td>\n",
       "      <td>0.54</td>\n",
       "      <td>-1.7</td>\n",
       "      <td>0.49</td>\n",
       "    </tr>\n",
       "    <tr>\n",
       "      <th>9</th>\n",
       "      <td>0</td>\n",
       "      <td>-1.9</td>\n",
       "      <td>0.92</td>\n",
       "      <td>-1.6</td>\n",
       "      <td>-0.65</td>\n",
       "      <td>-0.65</td>\n",
       "    </tr>\n",
       "  </tbody>\n",
       "</table>\n",
       "</div>"
      ],
      "text/plain": [
       "   y    x0     x1    x2     x3    x4\n",
       "0  1   2.1   0.84  0.24  -0.37 -0.19\n",
       "1  1     2   -1.5   1.3   0.92 -0.87\n",
       "2  1  0.19   -1.2 -0.42    1.3 -0.53\n",
       "3  0  -2.6   -1.2   1.2  -0.13 -0.84\n",
       "4  1   1.8   -0.2 -0.25 -0.065  -1.1\n",
       "5  0  -1.5  0.081 -0.67  -0.48     2\n",
       "6  1   2.7  -0.76  -0.3    2.1  -1.2\n",
       "7  0  -3.6   0.82   1.7    1.2  0.37\n",
       "8  0  -1.1   0.21  0.54   -1.7  0.49\n",
       "9  0  -1.9   0.92  -1.6  -0.65 -0.65"
      ]
     },
     "execution_count": 25,
     "metadata": {},
     "output_type": "execute_result"
    }
   ],
   "source": [
    "import pandas as pd\n",
    "pd.set_option('precision',2 )\n",
    "df = pd.DataFrame(np.hstack([y.reshape(10,1), X]), dtype='object')\n",
    "df.columns = ['y', 'x0', 'x1', 'x2', 'x3', 'x4'] #设置列名\n",
    "df"
   ]
  },
  {
   "cell_type": "markdown",
   "metadata": {},
   "source": [
    "改变特征数量。测试shrinkage功能"
   ]
  },
  {
   "cell_type": "code",
   "execution_count": 28,
   "metadata": {
    "collapsed": false
   },
   "outputs": [
    {
     "data": {
      "text/plain": [
       "[0.9725999999999998,\n",
       " 0.96750000000000014,\n",
       " 0.95880000000000021,\n",
       " 0.96160000000000012,\n",
       " 0.95299999999999996,\n",
       " 0.95099999999999985,\n",
       " 0.94579999999999997,\n",
       " 0.93859999999999999,\n",
       " 0.93260000000000021,\n",
       " 0.93079999999999985,\n",
       " 0.92699999999999994,\n",
       " 0.90439999999999987,\n",
       " 0.91100000000000025,\n",
       " 0.92120000000000035,\n",
       " 0.90460000000000007,\n",
       " 0.90010000000000023,\n",
       " 0.90590000000000037,\n",
       " 0.88929999999999976,\n",
       " 0.88840000000000008]"
      ]
     },
     "execution_count": 28,
     "metadata": {},
     "output_type": "execute_result"
    }
   ],
   "source": [
    "acc_clf1, acc_clf2 = [], []\n",
    "n_features_range = range(1, n_features_max + 1, step)\n",
    "for n_features in n_features_range:\n",
    "    score_clf1, score_clf2 = 0, 0\n",
    "    for _ in range(n_averages):\n",
    "        X, y = generate_data(n_train, n_features) #构建训练集\n",
    "        \n",
    "        clf1 = LDA(solver='lsqr', shrinkage='auto').fit(X, y) # 拟合训练集\n",
    "        clf2 = LDA(solver='lsqr', shrinkage=None).fit(X, y)\n",
    "        \n",
    "        X, y = generate_data(n_test, n_features) #构建测试集\n",
    "        \n",
    "        score_clf1 += clf1.score(X, y) # 计算得分\n",
    "        score_clf2 += clf2.score(X, y)\n",
    "        \n",
    "    acc_clf1.append(score_clf1/n_averages) # 计算平均得分\n",
    "    acc_clf2.append(score_clf2/n_averages)\n",
    "    \n",
    "acc_clf1\n",
    "        \n",
    "        "
   ]
  },
  {
   "cell_type": "markdown",
   "metadata": {},
   "source": [
    "显示LDA判别的结果\n",
    "\n",
    "+ 画出两条精确度的曲线\n",
    "+ 比较 使用shrinkage前后的性能"
   ]
  },
  {
   "cell_type": "code",
   "execution_count": 29,
   "metadata": {
    "collapsed": false
   },
   "outputs": [
    {
     "data": {
      "image/png": "[encoded data removed]",
      "text/plain": [
       "<matplotlib.figure.Figure at 0x7f468ea93b50>"
      ]
     },
     "metadata": {},
     "output_type": "display_data"
    }
   ],
   "source": [
    "# plot出样本特征和精度 在不同参数下的情况\n",
    "features_samples_ratio = np.array(n_features_range) / n_train\n",
    "fig = plt.figure(figsize=(10,6), dpi=300)\n",
    "plt.plot(features_samples_ratio, acc_clf1, linewidth=2,\n",
    "         label=\"Linear Discriminant Analysis with shrinkage\", color='r')\n",
    "plt.plot(features_samples_ratio, acc_clf2, linewidth=2,\n",
    "         label=\"Linear Discriminant Analysis\", color='g')\n",
    "plt.xlabel('n_features / n_samples')\n",
    "plt.ylabel('Classification accuracy')\n",
    "\n",
    "plt.legend(loc=1, prop={'size': 10})\n",
    "plt.show()"
   ]
  }
 ],
 "metadata": {
  "kernelspec": {
   "display_name": "Python 2",
   "language": "python",
   "name": "python2"
  },
  "language_info": {
   "codemirror_mode": {
    "name": "ipython",
    "version": 2
   },
   "file_extension": ".py",
   "mimetype": "text/x-python",
   "name": "python",
   "nbconvert_exporter": "python",
   "pygments_lexer": "ipython2",
   "version": "2.7.11"
  }
 },
 "nbformat": 4,
 "nbformat_minor": 0
}
